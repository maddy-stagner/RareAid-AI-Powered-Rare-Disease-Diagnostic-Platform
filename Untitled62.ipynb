{
  "nbformat": 4,
  "nbformat_minor": 0,
  "metadata": {
    "colab": {
      "provenance": []
    },
    "kernelspec": {
      "name": "python3",
      "display_name": "Python 3"
    },
    "language_info": {
      "name": "python"
    }
  },
  "cells": [
    {
      "cell_type": "code",
      "execution_count": 5,
      "metadata": {
        "id": "c4c2yHW01Fcv"
      },
      "outputs": [],
      "source": [
        "\n"
      ]
    },
    {
      "cell_type": "code",
      "source": [
        "import random\n",
        "import pandas as pd\n",
        "import numpy as np\n",
        "\n",
        "# Simulate a small dataset\n",
        "rare_diseases = ['Gaucher disease', 'Cystic fibrosis', 'Fabry disease', 'Tay-Sachs', 'Progeria']\n",
        "symptoms = ['fatigue', 'joint pain', 'vision loss', 'seizures', 'growth failure', 'skin rash', 'breathing issues', 'neurological decline']\n",
        "genes = ['GBA', 'CFTR', 'GLA', 'HEXA', 'LMNA']\n",
        "\n",
        "# Create synthetic patients\n",
        "def generate_patient():\n",
        "    symptom_list = random.sample(symptoms, random.randint(2, 5))\n",
        "    gene = random.choice(genes)\n",
        "    disease = rare_diseases[genes.index(gene)]  # map gene to disease roughly\n",
        "    return {\n",
        "        'symptoms': ', '.join(symptom_list),\n",
        "        'gene': gene,\n",
        "        'disease': disease\n",
        "    }\n",
        "\n",
        "patients = [generate_patient() for _ in range(500)]\n",
        "\n",
        "df = pd.DataFrame(patients)\n",
        "print(df.head())\n",
        "\n",
        "# Save\n",
        "df.to_csv('synthetic_rare_disease_data.csv', index=False)\n"
      ],
      "metadata": {
        "colab": {
          "base_uri": "https://localhost:8080/"
        },
        "id": "yJKmI8MK1GlB",
        "outputId": "e828e241-bf1f-4b75-ddc2-e12c1f335717"
      },
      "execution_count": 24,
      "outputs": [
        {
          "output_type": "stream",
          "name": "stdout",
          "text": [
            "                                            symptoms  gene          disease\n",
            "0                        breathing issues, skin rash   GLA    Fabry disease\n",
            "1      growth failure, breathing issues, vision loss  CFTR  Cystic fibrosis\n",
            "2   seizures, skin rash, growth failure, vision loss   GBA  Gaucher disease\n",
            "3                           seizures, growth failure  HEXA        Tay-Sachs\n",
            "4  breathing issues, seizures, joint pain, neurol...   GBA  Gaucher disease\n"
          ]
        }
      ]
    },
    {
      "cell_type": "code",
      "source": [
        "from sklearn.preprocessing import MultiLabelBinarizer, LabelEncoder\n",
        "from sklearn.model_selection import train_test_split\n",
        "\n",
        "# Load\n",
        "df = pd.read_csv('synthetic_rare_disease_data.csv')\n",
        "\n",
        "# Symptoms encoding\n",
        "mlb = MultiLabelBinarizer()\n",
        "symptom_matrix = mlb.fit_transform(df['symptoms'].str.split(', '))\n",
        "\n",
        "# Gene encoding\n",
        "gene_encoder = LabelEncoder()\n",
        "gene_encoded = gene_encoder.fit_transform(df['gene'])\n",
        "\n",
        "# Final X\n",
        "X = np.hstack([symptom_matrix, gene_encoded.reshape(-1,1)])\n",
        "\n",
        "# Target (Disease)\n",
        "disease_encoder = LabelEncoder()\n",
        "y = disease_encoder.fit_transform(df['disease'])\n",
        "\n",
        "# Train-test split\n",
        "X_train, X_test, y_train, y_test = train_test_split(X, y, test_size=0.2, random_state=42)\n"
      ],
      "metadata": {
        "id": "h-H2PtpJ718A"
      },
      "execution_count": 25,
      "outputs": []
    },
    {
      "cell_type": "code",
      "source": [
        "import tensorflow as tf\n",
        "from tensorflow.keras import layers\n",
        "\n",
        "# Model\n",
        "model = tf.keras.Sequential([\n",
        "    layers.Dense(128, activation='relu', input_shape=(X_train.shape[1],)),\n",
        "    layers.Dropout(0.3),\n",
        "    layers.Dense(64, activation='relu'),\n",
        "    layers.Dropout(0.3),\n",
        "    layers.Dense(len(rare_diseases), activation='softmax')\n",
        "])\n",
        "\n",
        "model.compile(optimizer='adam',\n",
        "              loss='sparse_categorical_crossentropy',\n",
        "              metrics=['accuracy'])\n",
        "\n",
        "model.summary()\n"
      ],
      "metadata": {
        "colab": {
          "base_uri": "https://localhost:8080/",
          "height": 361
        },
        "id": "v0lhPWdA8AIf",
        "outputId": "4abc72f6-6c97-4427-9cc5-e92cd6c95314"
      },
      "execution_count": 26,
      "outputs": [
        {
          "output_type": "stream",
          "name": "stderr",
          "text": [
            "/usr/local/lib/python3.11/dist-packages/keras/src/layers/core/dense.py:87: UserWarning: Do not pass an `input_shape`/`input_dim` argument to a layer. When using Sequential models, prefer using an `Input(shape)` object as the first layer in the model instead.\n",
            "  super().__init__(activity_regularizer=activity_regularizer, **kwargs)\n"
          ]
        },
        {
          "output_type": "display_data",
          "data": {
            "text/plain": [
              "\u001b[1mModel: \"sequential_1\"\u001b[0m\n"
            ],
            "text/html": [
              "<pre style=\"white-space:pre;overflow-x:auto;line-height:normal;font-family:Menlo,'DejaVu Sans Mono',consolas,'Courier New',monospace\"><span style=\"font-weight: bold\">Model: \"sequential_1\"</span>\n",
              "</pre>\n"
            ]
          },
          "metadata": {}
        },
        {
          "output_type": "display_data",
          "data": {
            "text/plain": [
              "┏━━━━━━━━━━━━━━━━━━━━━━━━━━━━━━━━━━━━━━┳━━━━━━━━━━━━━━━━━━━━━━━━━━━━━┳━━━━━━━━━━━━━━━━━┓\n",
              "┃\u001b[1m \u001b[0m\u001b[1mLayer (type)                        \u001b[0m\u001b[1m \u001b[0m┃\u001b[1m \u001b[0m\u001b[1mOutput Shape               \u001b[0m\u001b[1m \u001b[0m┃\u001b[1m \u001b[0m\u001b[1m        Param #\u001b[0m\u001b[1m \u001b[0m┃\n",
              "┡━━━━━━━━━━━━━━━━━━━━━━━━━━━━━━━━━━━━━━╇━━━━━━━━━━━━━━━━━━━━━━━━━━━━━╇━━━━━━━━━━━━━━━━━┩\n",
              "│ dense_3 (\u001b[38;5;33mDense\u001b[0m)                      │ (\u001b[38;5;45mNone\u001b[0m, \u001b[38;5;34m128\u001b[0m)                 │           \u001b[38;5;34m1,280\u001b[0m │\n",
              "├──────────────────────────────────────┼─────────────────────────────┼─────────────────┤\n",
              "│ dropout_2 (\u001b[38;5;33mDropout\u001b[0m)                  │ (\u001b[38;5;45mNone\u001b[0m, \u001b[38;5;34m128\u001b[0m)                 │               \u001b[38;5;34m0\u001b[0m │\n",
              "├──────────────────────────────────────┼─────────────────────────────┼─────────────────┤\n",
              "│ dense_4 (\u001b[38;5;33mDense\u001b[0m)                      │ (\u001b[38;5;45mNone\u001b[0m, \u001b[38;5;34m64\u001b[0m)                  │           \u001b[38;5;34m8,256\u001b[0m │\n",
              "├──────────────────────────────────────┼─────────────────────────────┼─────────────────┤\n",
              "│ dropout_3 (\u001b[38;5;33mDropout\u001b[0m)                  │ (\u001b[38;5;45mNone\u001b[0m, \u001b[38;5;34m64\u001b[0m)                  │               \u001b[38;5;34m0\u001b[0m │\n",
              "├──────────────────────────────────────┼─────────────────────────────┼─────────────────┤\n",
              "│ dense_5 (\u001b[38;5;33mDense\u001b[0m)                      │ (\u001b[38;5;45mNone\u001b[0m, \u001b[38;5;34m5\u001b[0m)                   │             \u001b[38;5;34m325\u001b[0m │\n",
              "└──────────────────────────────────────┴─────────────────────────────┴─────────────────┘\n"
            ],
            "text/html": [
              "<pre style=\"white-space:pre;overflow-x:auto;line-height:normal;font-family:Menlo,'DejaVu Sans Mono',consolas,'Courier New',monospace\">┏━━━━━━━━━━━━━━━━━━━━━━━━━━━━━━━━━━━━━━┳━━━━━━━━━━━━━━━━━━━━━━━━━━━━━┳━━━━━━━━━━━━━━━━━┓\n",
              "┃<span style=\"font-weight: bold\"> Layer (type)                         </span>┃<span style=\"font-weight: bold\"> Output Shape                </span>┃<span style=\"font-weight: bold\">         Param # </span>┃\n",
              "┡━━━━━━━━━━━━━━━━━━━━━━━━━━━━━━━━━━━━━━╇━━━━━━━━━━━━━━━━━━━━━━━━━━━━━╇━━━━━━━━━━━━━━━━━┩\n",
              "│ dense_3 (<span style=\"color: #0087ff; text-decoration-color: #0087ff\">Dense</span>)                      │ (<span style=\"color: #00d7ff; text-decoration-color: #00d7ff\">None</span>, <span style=\"color: #00af00; text-decoration-color: #00af00\">128</span>)                 │           <span style=\"color: #00af00; text-decoration-color: #00af00\">1,280</span> │\n",
              "├──────────────────────────────────────┼─────────────────────────────┼─────────────────┤\n",
              "│ dropout_2 (<span style=\"color: #0087ff; text-decoration-color: #0087ff\">Dropout</span>)                  │ (<span style=\"color: #00d7ff; text-decoration-color: #00d7ff\">None</span>, <span style=\"color: #00af00; text-decoration-color: #00af00\">128</span>)                 │               <span style=\"color: #00af00; text-decoration-color: #00af00\">0</span> │\n",
              "├──────────────────────────────────────┼─────────────────────────────┼─────────────────┤\n",
              "│ dense_4 (<span style=\"color: #0087ff; text-decoration-color: #0087ff\">Dense</span>)                      │ (<span style=\"color: #00d7ff; text-decoration-color: #00d7ff\">None</span>, <span style=\"color: #00af00; text-decoration-color: #00af00\">64</span>)                  │           <span style=\"color: #00af00; text-decoration-color: #00af00\">8,256</span> │\n",
              "├──────────────────────────────────────┼─────────────────────────────┼─────────────────┤\n",
              "│ dropout_3 (<span style=\"color: #0087ff; text-decoration-color: #0087ff\">Dropout</span>)                  │ (<span style=\"color: #00d7ff; text-decoration-color: #00d7ff\">None</span>, <span style=\"color: #00af00; text-decoration-color: #00af00\">64</span>)                  │               <span style=\"color: #00af00; text-decoration-color: #00af00\">0</span> │\n",
              "├──────────────────────────────────────┼─────────────────────────────┼─────────────────┤\n",
              "│ dense_5 (<span style=\"color: #0087ff; text-decoration-color: #0087ff\">Dense</span>)                      │ (<span style=\"color: #00d7ff; text-decoration-color: #00d7ff\">None</span>, <span style=\"color: #00af00; text-decoration-color: #00af00\">5</span>)                   │             <span style=\"color: #00af00; text-decoration-color: #00af00\">325</span> │\n",
              "└──────────────────────────────────────┴─────────────────────────────┴─────────────────┘\n",
              "</pre>\n"
            ]
          },
          "metadata": {}
        },
        {
          "output_type": "display_data",
          "data": {
            "text/plain": [
              "\u001b[1m Total params: \u001b[0m\u001b[38;5;34m9,861\u001b[0m (38.52 KB)\n"
            ],
            "text/html": [
              "<pre style=\"white-space:pre;overflow-x:auto;line-height:normal;font-family:Menlo,'DejaVu Sans Mono',consolas,'Courier New',monospace\"><span style=\"font-weight: bold\"> Total params: </span><span style=\"color: #00af00; text-decoration-color: #00af00\">9,861</span> (38.52 KB)\n",
              "</pre>\n"
            ]
          },
          "metadata": {}
        },
        {
          "output_type": "display_data",
          "data": {
            "text/plain": [
              "\u001b[1m Trainable params: \u001b[0m\u001b[38;5;34m9,861\u001b[0m (38.52 KB)\n"
            ],
            "text/html": [
              "<pre style=\"white-space:pre;overflow-x:auto;line-height:normal;font-family:Menlo,'DejaVu Sans Mono',consolas,'Courier New',monospace\"><span style=\"font-weight: bold\"> Trainable params: </span><span style=\"color: #00af00; text-decoration-color: #00af00\">9,861</span> (38.52 KB)\n",
              "</pre>\n"
            ]
          },
          "metadata": {}
        },
        {
          "output_type": "display_data",
          "data": {
            "text/plain": [
              "\u001b[1m Non-trainable params: \u001b[0m\u001b[38;5;34m0\u001b[0m (0.00 B)\n"
            ],
            "text/html": [
              "<pre style=\"white-space:pre;overflow-x:auto;line-height:normal;font-family:Menlo,'DejaVu Sans Mono',consolas,'Courier New',monospace\"><span style=\"font-weight: bold\"> Non-trainable params: </span><span style=\"color: #00af00; text-decoration-color: #00af00\">0</span> (0.00 B)\n",
              "</pre>\n"
            ]
          },
          "metadata": {}
        }
      ]
    },
    {
      "cell_type": "code",
      "source": [
        "history = model.fit(X_train, y_train, epochs=30, batch_size=16, validation_split=0.2)\n"
      ],
      "metadata": {
        "colab": {
          "base_uri": "https://localhost:8080/"
        },
        "id": "iBjFWe1J8Bjv",
        "outputId": "b40a23fc-3094-440f-cab0-5b62ab95b12f"
      },
      "execution_count": 27,
      "outputs": [
        {
          "output_type": "stream",
          "name": "stdout",
          "text": [
            "Epoch 1/30\n",
            "\u001b[1m20/20\u001b[0m \u001b[32m━━━━━━━━━━━━━━━━━━━━\u001b[0m\u001b[37m\u001b[0m \u001b[1m2s\u001b[0m 17ms/step - accuracy: 0.2020 - loss: 1.7339 - val_accuracy: 0.2375 - val_loss: 1.4895\n",
            "Epoch 2/30\n",
            "\u001b[1m20/20\u001b[0m \u001b[32m━━━━━━━━━━━━━━━━━━━━\u001b[0m\u001b[37m\u001b[0m \u001b[1m0s\u001b[0m 7ms/step - accuracy: 0.4297 - loss: 1.4245 - val_accuracy: 0.4875 - val_loss: 1.3154\n",
            "Epoch 3/30\n",
            "\u001b[1m20/20\u001b[0m \u001b[32m━━━━━━━━━━━━━━━━━━━━\u001b[0m\u001b[37m\u001b[0m \u001b[1m0s\u001b[0m 6ms/step - accuracy: 0.4872 - loss: 1.2850 - val_accuracy: 0.5125 - val_loss: 1.1836\n",
            "Epoch 4/30\n",
            "\u001b[1m20/20\u001b[0m \u001b[32m━━━━━━━━━━━━━━━━━━━━\u001b[0m\u001b[37m\u001b[0m \u001b[1m0s\u001b[0m 7ms/step - accuracy: 0.5050 - loss: 1.1796 - val_accuracy: 0.5500 - val_loss: 1.0718\n",
            "Epoch 5/30\n",
            "\u001b[1m20/20\u001b[0m \u001b[32m━━━━━━━━━━━━━━━━━━━━\u001b[0m\u001b[37m\u001b[0m \u001b[1m0s\u001b[0m 6ms/step - accuracy: 0.5944 - loss: 1.0204 - val_accuracy: 0.6250 - val_loss: 0.9629\n",
            "Epoch 6/30\n",
            "\u001b[1m20/20\u001b[0m \u001b[32m━━━━━━━━━━━━━━━━━━━━\u001b[0m\u001b[37m\u001b[0m \u001b[1m0s\u001b[0m 9ms/step - accuracy: 0.6650 - loss: 0.9037 - val_accuracy: 0.6375 - val_loss: 0.8649\n",
            "Epoch 7/30\n",
            "\u001b[1m20/20\u001b[0m \u001b[32m━━━━━━━━━━━━━━━━━━━━\u001b[0m\u001b[37m\u001b[0m \u001b[1m0s\u001b[0m 8ms/step - accuracy: 0.6695 - loss: 0.8283 - val_accuracy: 0.6375 - val_loss: 0.8015\n",
            "Epoch 8/30\n",
            "\u001b[1m20/20\u001b[0m \u001b[32m━━━━━━━━━━━━━━━━━━━━\u001b[0m\u001b[37m\u001b[0m \u001b[1m0s\u001b[0m 9ms/step - accuracy: 0.6181 - loss: 0.8091 - val_accuracy: 0.7125 - val_loss: 0.7422\n",
            "Epoch 9/30\n",
            "\u001b[1m20/20\u001b[0m \u001b[32m━━━━━━━━━━━━━━━━━━━━\u001b[0m\u001b[37m\u001b[0m \u001b[1m0s\u001b[0m 6ms/step - accuracy: 0.7176 - loss: 0.7260 - val_accuracy: 0.6875 - val_loss: 0.6893\n",
            "Epoch 10/30\n",
            "\u001b[1m20/20\u001b[0m \u001b[32m━━━━━━━━━━━━━━━━━━━━\u001b[0m\u001b[37m\u001b[0m \u001b[1m0s\u001b[0m 6ms/step - accuracy: 0.6868 - loss: 0.7537 - val_accuracy: 0.7500 - val_loss: 0.6452\n",
            "Epoch 11/30\n",
            "\u001b[1m20/20\u001b[0m \u001b[32m━━━━━━━━━━━━━━━━━━━━\u001b[0m\u001b[37m\u001b[0m \u001b[1m0s\u001b[0m 6ms/step - accuracy: 0.7579 - loss: 0.6509 - val_accuracy: 0.7375 - val_loss: 0.6139\n",
            "Epoch 12/30\n",
            "\u001b[1m20/20\u001b[0m \u001b[32m━━━━━━━━━━━━━━━━━━━━\u001b[0m\u001b[37m\u001b[0m \u001b[1m0s\u001b[0m 7ms/step - accuracy: 0.7300 - loss: 0.6408 - val_accuracy: 0.7875 - val_loss: 0.5652\n",
            "Epoch 13/30\n",
            "\u001b[1m20/20\u001b[0m \u001b[32m━━━━━━━━━━━━━━━━━━━━\u001b[0m\u001b[37m\u001b[0m \u001b[1m0s\u001b[0m 8ms/step - accuracy: 0.7114 - loss: 0.6605 - val_accuracy: 0.7500 - val_loss: 0.5444\n",
            "Epoch 14/30\n",
            "\u001b[1m20/20\u001b[0m \u001b[32m━━━━━━━━━━━━━━━━━━━━\u001b[0m\u001b[37m\u001b[0m \u001b[1m0s\u001b[0m 8ms/step - accuracy: 0.7474 - loss: 0.5960 - val_accuracy: 0.7500 - val_loss: 0.5344\n",
            "Epoch 15/30\n",
            "\u001b[1m20/20\u001b[0m \u001b[32m━━━━━━━━━━━━━━━━━━━━\u001b[0m\u001b[37m\u001b[0m \u001b[1m0s\u001b[0m 6ms/step - accuracy: 0.8017 - loss: 0.5624 - val_accuracy: 0.8125 - val_loss: 0.4733\n",
            "Epoch 16/30\n",
            "\u001b[1m20/20\u001b[0m \u001b[32m━━━━━━━━━━━━━━━━━━━━\u001b[0m\u001b[37m\u001b[0m \u001b[1m0s\u001b[0m 7ms/step - accuracy: 0.8097 - loss: 0.5385 - val_accuracy: 0.8125 - val_loss: 0.4602\n",
            "Epoch 17/30\n",
            "\u001b[1m20/20\u001b[0m \u001b[32m━━━━━━━━━━━━━━━━━━━━\u001b[0m\u001b[37m\u001b[0m \u001b[1m0s\u001b[0m 6ms/step - accuracy: 0.7733 - loss: 0.5211 - val_accuracy: 0.8500 - val_loss: 0.4237\n",
            "Epoch 18/30\n",
            "\u001b[1m20/20\u001b[0m \u001b[32m━━━━━━━━━━━━━━━━━━━━\u001b[0m\u001b[37m\u001b[0m \u001b[1m0s\u001b[0m 7ms/step - accuracy: 0.8137 - loss: 0.4787 - val_accuracy: 0.8875 - val_loss: 0.3925\n",
            "Epoch 19/30\n",
            "\u001b[1m20/20\u001b[0m \u001b[32m━━━━━━━━━━━━━━━━━━━━\u001b[0m\u001b[37m\u001b[0m \u001b[1m0s\u001b[0m 7ms/step - accuracy: 0.8377 - loss: 0.4453 - val_accuracy: 0.8750 - val_loss: 0.3749\n",
            "Epoch 20/30\n",
            "\u001b[1m20/20\u001b[0m \u001b[32m━━━━━━━━━━━━━━━━━━━━\u001b[0m\u001b[37m\u001b[0m \u001b[1m0s\u001b[0m 7ms/step - accuracy: 0.8424 - loss: 0.3943 - val_accuracy: 0.8750 - val_loss: 0.3601\n",
            "Epoch 21/30\n",
            "\u001b[1m20/20\u001b[0m \u001b[32m━━━━━━━━━━━━━━━━━━━━\u001b[0m\u001b[37m\u001b[0m \u001b[1m0s\u001b[0m 8ms/step - accuracy: 0.7895 - loss: 0.4622 - val_accuracy: 0.8875 - val_loss: 0.3416\n",
            "Epoch 22/30\n",
            "\u001b[1m20/20\u001b[0m \u001b[32m━━━━━━━━━━━━━━━━━━━━\u001b[0m\u001b[37m\u001b[0m \u001b[1m0s\u001b[0m 7ms/step - accuracy: 0.8614 - loss: 0.3686 - val_accuracy: 0.9125 - val_loss: 0.3069\n",
            "Epoch 23/30\n",
            "\u001b[1m20/20\u001b[0m \u001b[32m━━━━━━━━━━━━━━━━━━━━\u001b[0m\u001b[37m\u001b[0m \u001b[1m0s\u001b[0m 8ms/step - accuracy: 0.8459 - loss: 0.3948 - val_accuracy: 0.9250 - val_loss: 0.2791\n",
            "Epoch 24/30\n",
            "\u001b[1m20/20\u001b[0m \u001b[32m━━━━━━━━━━━━━━━━━━━━\u001b[0m\u001b[37m\u001b[0m \u001b[1m0s\u001b[0m 7ms/step - accuracy: 0.8712 - loss: 0.3773 - val_accuracy: 0.9375 - val_loss: 0.2663\n",
            "Epoch 25/30\n",
            "\u001b[1m20/20\u001b[0m \u001b[32m━━━━━━━━━━━━━━━━━━━━\u001b[0m\u001b[37m\u001b[0m \u001b[1m0s\u001b[0m 6ms/step - accuracy: 0.8460 - loss: 0.3666 - val_accuracy: 0.9375 - val_loss: 0.2478\n",
            "Epoch 26/30\n",
            "\u001b[1m20/20\u001b[0m \u001b[32m━━━━━━━━━━━━━━━━━━━━\u001b[0m\u001b[37m\u001b[0m \u001b[1m0s\u001b[0m 6ms/step - accuracy: 0.9025 - loss: 0.2905 - val_accuracy: 0.9375 - val_loss: 0.2363\n",
            "Epoch 27/30\n",
            "\u001b[1m20/20\u001b[0m \u001b[32m━━━━━━━━━━━━━━━━━━━━\u001b[0m\u001b[37m\u001b[0m \u001b[1m0s\u001b[0m 6ms/step - accuracy: 0.9200 - loss: 0.2890 - val_accuracy: 0.9375 - val_loss: 0.2494\n",
            "Epoch 28/30\n",
            "\u001b[1m20/20\u001b[0m \u001b[32m━━━━━━━━━━━━━━━━━━━━\u001b[0m\u001b[37m\u001b[0m \u001b[1m0s\u001b[0m 7ms/step - accuracy: 0.9515 - loss: 0.2437 - val_accuracy: 0.9250 - val_loss: 0.2054\n",
            "Epoch 29/30\n",
            "\u001b[1m20/20\u001b[0m \u001b[32m━━━━━━━━━━━━━━━━━━━━\u001b[0m\u001b[37m\u001b[0m \u001b[1m0s\u001b[0m 7ms/step - accuracy: 0.9014 - loss: 0.2509 - val_accuracy: 0.9625 - val_loss: 0.1827\n",
            "Epoch 30/30\n",
            "\u001b[1m20/20\u001b[0m \u001b[32m━━━━━━━━━━━━━━━━━━━━\u001b[0m\u001b[37m\u001b[0m \u001b[1m0s\u001b[0m 8ms/step - accuracy: 0.9065 - loss: 0.2494 - val_accuracy: 0.9375 - val_loss: 0.1811\n"
          ]
        }
      ]
    },
    {
      "cell_type": "code",
      "source": [
        "# Function to predict disease from symptoms + gene\n",
        "def predict_disease(symptoms_input, gene_input):\n",
        "    # Symptoms\n",
        "    symptom_input_list = symptoms_input.split(', ')\n",
        "    symptoms_vec = mlb.transform([symptom_input_list])\n",
        "\n",
        "    # Gene\n",
        "    gene_vec = gene_encoder.transform([gene_input])\n",
        "\n",
        "    # Final input\n",
        "    input_vec = np.hstack([symptoms_vec, gene_vec.reshape(-1,1)])\n",
        "\n",
        "    # Predict\n",
        "    pred_probs = model.predict(input_vec)[0]\n",
        "    pred_index = np.argmax(pred_probs)\n",
        "\n",
        "    pred_disease = disease_encoder.inverse_transform([pred_index])[0]\n",
        "    return f\"Predicted Disease: {pred_disease} (Confidence: {pred_probs[pred_index]*100:.2f}%)\"\n"
      ],
      "metadata": {
        "id": "6zqf13sU8DnY"
      },
      "execution_count": 28,
      "outputs": []
    },
    {
      "cell_type": "code",
      "source": [
        "import gradio as gr\n",
        "\n",
        "# Uploaded paths\n",
        "logo_path = \"/ChatGPT Image Apr 8, 2025, 02_55_56 PM.png\"\n",
        "\n",
        "# Analytics tracking\n",
        "analytics_data = {\n",
        "    \"sessions\": 0,\n",
        "    \"yes_count\": 0,\n",
        "    \"no_count\": 0,\n",
        "    \"total_answers\": 0\n",
        "}\n",
        "\n",
        "# Symptom questions list\n",
        "questions_list = [\n",
        "    \"Do you experience frequent headaches?\",\n",
        "    \"Have you had unexplained weight loss?\",\n",
        "    \"Do you suffer from persistent fatigue?\",\n",
        "    \"Are there any noticeable changes in skin color?\",\n",
        "    \"Do you feel shortness of breath often?\",\n",
        "    \"Have you observed swelling in any body parts?\",\n",
        "    \"Do you have difficulty in concentration?\",\n",
        "    \"Are you experiencing muscle weakness?\",\n",
        "    \"Do you have abnormal heartbeats?\",\n",
        "    \"Do you suffer from chronic pain without clear cause?\"\n",
        "]\n",
        "\n",
        "# Professional CSS\n",
        "custom_css = \"\"\"\n",
        "body {\n",
        "    background: linear-gradient(135deg, #e0f7fa, #c8e6f5);\n",
        "    font-family: 'Poppins', sans-serif;\n",
        "}\n",
        ".gradio-container {\n",
        "    max-width: 1200px !important;\n",
        "    margin: auto;\n",
        "    padding: 2em;\n",
        "    background: rgba(255, 255, 255, 0.95);\n",
        "    border-radius: 20px;\n",
        "    box-shadow: 0 12px 30px rgba(0,0,0,0.15);\n",
        "}\n",
        "h1, h2, h3 {\n",
        "    text-align: center;\n",
        "    color: #005c99;\n",
        "}\n",
        "button {\n",
        "    background: linear-gradient(90deg, #3399ff, #0066cc);\n",
        "    border: none;\n",
        "    border-radius: 30px;\n",
        "    padding: 0.9em 2em;\n",
        "    color: white;\n",
        "    font-weight: bold;\n",
        "    font-size: 1.2em;\n",
        "    cursor: pointer;\n",
        "    transition: 0.3s;\n",
        "}\n",
        "button:hover {\n",
        "    background: linear-gradient(90deg, #0066cc, #3399ff);\n",
        "}\n",
        "img.logo {\n",
        "    display: block;\n",
        "    margin-left: auto;\n",
        "    margin-right: auto;\n",
        "    width: 180px;\n",
        "    margin-bottom: 1em;\n",
        "    filter: drop-shadow(0 0 8px #66c2ff);\n",
        "}\n",
        "img.hero {\n",
        "    width: 100%;\n",
        "    height: auto;\n",
        "    object-fit: cover;\n",
        "    border-radius: 20px;\n",
        "    margin-top: 1em;\n",
        "    margin-bottom: 2em;\n",
        "    box-shadow: 0 8px 20px rgba(0,0,0,0.2);\n",
        "}\n",
        "\"\"\"\n",
        "\n",
        "# Chatbot Logic\n",
        "def chatbot_response(chat_history, question_idx, user_response):\n",
        "    user_response = user_response.lower()\n",
        "    if user_response in [\"yes\", \"y\"]:\n",
        "        reply = \"Symptom acknowledged.\"\n",
        "        analytics_data[\"yes_count\"] += 1\n",
        "    elif user_response in [\"no\", \"n\"]:\n",
        "        reply = \"Noted.\"\n",
        "        analytics_data[\"no_count\"] += 1\n",
        "    else:\n",
        "        reply = \"Please respond with Yes or No.\"\n",
        "\n",
        "    analytics_data[\"total_answers\"] += 1\n",
        "\n",
        "    chat_history.append((\"You\", user_response.capitalize()))\n",
        "    chat_history.append((\"RareAid Assistant\", reply))\n",
        "\n",
        "    question_idx += 1\n",
        "    if question_idx < len(questions_list):\n",
        "        next_question = questions_list[question_idx]\n",
        "        chat_history.append((\"RareAid Assistant\", next_question))\n",
        "    else:\n",
        "        chat_history.append((\"RareAid Assistant\", \"Diagnosis Complete. Thank you!\"))\n",
        "\n",
        "    return chat_history, question_idx\n",
        "\n",
        "def show_analytics():\n",
        "    return f\"\"\"\n",
        "# 📊 RareAid Analytics\n",
        "\n",
        "- Total Sessions: {analytics_data['sessions']}\n",
        "- Total YES Answers: {analytics_data['yes_count']}\n",
        "- Total NO Answers: {analytics_data['no_count']}\n",
        "- Total Symptom Answers: {analytics_data['total_answers']}\n",
        "\"\"\"\n",
        "\n",
        "# 🚀 FIXED LAUNCH CHATBOT FUNCTION\n",
        "def launch_chatbot():\n",
        "    analytics_data[\"sessions\"] += 1\n",
        "    history = [(\"RareAid Assistant\", questions_list[0])]\n",
        "    return (gr.update(visible=False), gr.update(visible=True), history, 0)\n",
        "\n",
        "# Building the Website\n",
        "with gr.Blocks(css=custom_css) as website:\n",
        "\n",
        "    # HOME PAGE\n",
        "    with gr.Column(visible=True) as home_page:\n",
        "        gr.Image(value=logo_path, elem_classes=[\"logo\"])\n",
        "        gr.Image(value=image_path, elem_classes=[\"hero\"])\n",
        "        gr.Markdown(\"# Welcome to RareAid\")\n",
        "        gr.Markdown(\"### AI-Powered Rare Disease Diagnostic Platform\")\n",
        "        next_to_about = gr.Button(\"Learn About RareAid\")\n",
        "\n",
        "    # ABOUT PAGE\n",
        "    with gr.Column(visible=False) as about_page:\n",
        "        gr.Markdown(\"# About RareAid\")\n",
        "        gr.Markdown(\"\"\"\n",
        "RareAid is an AI-driven healthcare platform for early detection of rare diseases.\n",
        "        \"\"\")\n",
        "        next_to_features = gr.Button(\"See Core Features\")\n",
        "\n",
        "    # FEATURES PAGE\n",
        "    with gr.Column(visible=False) as features_page:\n",
        "        gr.Markdown(\"# Core Features of RareAid\")\n",
        "        gr.Markdown(\"\"\"\n",
        "- Dynamic symptom-based questioning\n",
        "- Predictive rare disease risk assessment\n",
        "- Emergency detection and referral automation\n",
        "- HIPAA-compliant and scalable\n",
        "        \"\"\")\n",
        "        next_to_contact = gr.Button(\"Contact or Launch Chatbot\")\n",
        "\n",
        "    # CONTACT PAGE\n",
        "    with gr.Column(visible=False) as contact_page:\n",
        "        gr.Markdown(\"# Contact RareAid\")\n",
        "        gr.Markdown(\"\"\"\n",
        "For collaborations:\n",
        "\n",
        "**Email:** support@rareaid.ai\n",
        "**LinkedIn:** linkedin.com/company/rareaid\n",
        "**Twitter:** @rareaid\n",
        "        \"\"\")\n",
        "        to_chatbot = gr.Button(\"Launch Medical Chatbot\")\n",
        "        to_analytics = gr.Button(\"View Analytics Dashboard\")\n",
        "\n",
        "    # CHATBOT PAGE\n",
        "    with gr.Column(visible=False) as chatbot_page:\n",
        "        gr.Markdown(\"# RareAid Medical Chatbot (Click YES/NO)\")\n",
        "        chatbot_history = gr.State([])\n",
        "        question_idx = gr.State(0)\n",
        "        chatbot_display = gr.Chatbot(height=400, label=\"RareAid Chat\")\n",
        "\n",
        "        with gr.Row():\n",
        "            yes_btn = gr.Button(\"YES\")\n",
        "            no_btn = gr.Button(\"NO\")\n",
        "        back_home_btn1 = gr.Button(\"Return to Home\")\n",
        "\n",
        "        # 🚀 Correct Button logic\n",
        "        yes_btn.click(chatbot_response, inputs=[chatbot_display, question_idx, gr.Textbox(value=\"yes\", visible=False)], outputs=[chatbot_display, question_idx])\n",
        "        no_btn.click(chatbot_response, inputs=[chatbot_display, question_idx, gr.Textbox(value=\"no\", visible=False)], outputs=[chatbot_display, question_idx])\n",
        "\n",
        "    # ANALYTICS PAGE\n",
        "    with gr.Column(visible=False) as analytics_page:\n",
        "        gr.Markdown(\"# RareAid Analytics Dashboard\")\n",
        "        analytics_view = gr.Markdown(show_analytics())\n",
        "        refresh_btn = gr.Button(\"🔄 Refresh Analytics\")\n",
        "        back_home_btn2 = gr.Button(\"Return to Home\")\n",
        "\n",
        "    # Navigation Logic\n",
        "    next_to_about.click(lambda: (gr.update(visible=False), gr.update(visible=True)), inputs=[], outputs=[home_page, about_page])\n",
        "    next_to_features.click(lambda: (gr.update(visible=False), gr.update(visible=True)), inputs=[], outputs=[about_page, features_page])\n",
        "    next_to_contact.click(lambda: (gr.update(visible=False), gr.update(visible=True)), inputs=[], outputs=[features_page, contact_page])\n",
        "\n",
        "    # 🛠 Corrected: when launching chatbot, also load first question\n",
        "    to_chatbot.click(fn=launch_chatbot, inputs=[], outputs=[contact_page, chatbot_page, chatbot_display, question_idx])\n",
        "\n",
        "    to_analytics.click(lambda: (gr.update(visible=False), gr.update(visible=True)), inputs=[], outputs=[contact_page, analytics_page])\n",
        "    back_home_btn1.click(lambda: (gr.update(visible=True), gr.update(visible=False)), inputs=[], outputs=[home_page, chatbot_page])\n",
        "    back_home_btn2.click(lambda: (gr.update(visible=True), gr.update(visible=False)), inputs=[], outputs=[home_page, analytics_page])\n",
        "    refresh_btn.click(lambda: show_analytics(), outputs=analytics_view)\n",
        "\n",
        "website.launch()\n"
      ],
      "metadata": {
        "colab": {
          "base_uri": "https://localhost:8080/",
          "height": 680
        },
        "id": "AqfD8dzz8Kiy",
        "outputId": "c86c7265-12ab-4270-8e33-9c0872d55ada"
      },
      "execution_count": 47,
      "outputs": [
        {
          "output_type": "stream",
          "name": "stderr",
          "text": [
            "<ipython-input-47-2e341e516e6e>:169: UserWarning: You have not specified a value for the `type` parameter. Defaulting to the 'tuples' format for chatbot messages, but this is deprecated and will be removed in a future version of Gradio. Please set type='messages' instead, which uses openai-style dictionaries with 'role' and 'content' keys.\n",
            "  chatbot_display = gr.Chatbot(height=400, label=\"RareAid Chat\")\n"
          ]
        },
        {
          "output_type": "stream",
          "name": "stdout",
          "text": [
            "Running Gradio in a Colab notebook requires sharing enabled. Automatically setting `share=True` (you can turn this off by setting `share=False` in `launch()` explicitly).\n",
            "\n",
            "Colab notebook detected. To show errors in colab notebook, set debug=True in launch()\n",
            "* Running on public URL: https://edd34d89d46ab0c29b.gradio.live\n",
            "\n",
            "This share link expires in 72 hours. For free permanent hosting and GPU upgrades, run `gradio deploy` from the terminal in the working directory to deploy to Hugging Face Spaces (https://huggingface.co/spaces)\n"
          ]
        },
        {
          "output_type": "display_data",
          "data": {
            "text/plain": [
              "<IPython.core.display.HTML object>"
            ],
            "text/html": [
              "<div><iframe src=\"https://edd34d89d46ab0c29b.gradio.live\" width=\"100%\" height=\"500\" allow=\"autoplay; camera; microphone; clipboard-read; clipboard-write;\" frameborder=\"0\" allowfullscreen></iframe></div>"
            ]
          },
          "metadata": {}
        },
        {
          "output_type": "execute_result",
          "data": {
            "text/plain": []
          },
          "metadata": {},
          "execution_count": 47
        }
      ]
    },
    {
      "cell_type": "code",
      "source": [],
      "metadata": {
        "id": "52ge0aoa8L5J"
      },
      "execution_count": null,
      "outputs": []
    }
  ]
}